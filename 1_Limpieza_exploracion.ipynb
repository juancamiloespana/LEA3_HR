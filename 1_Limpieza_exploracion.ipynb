{
  "nbformat": 4,
  "nbformat_minor": 0,
  "metadata": {
    "colab": {
      "name": "1_Limpieza_exploracion.ipynb",
      "provenance": []
    },
    "kernelspec": {
      "name": "python3",
      "display_name": "Python 3"
    },
    "language_info": {
      "name": "python"
    }
  },
  "cells": [
    {
      "cell_type": "markdown",
      "source": [
        "#1 Comprension y Limpieza de los datos"
      ],
      "metadata": {
        "id": "hD8MxPAISqAr"
      }
    },
    {
      "cell_type": "code",
      "execution_count": 1,
      "metadata": {
        "id": "c4Zs5rBeSYLQ"
      },
      "outputs": [],
      "source": [
        "#### Cargar paquetes siempre al inicio\n",
        "\n",
        "import pandas as pd\n"
      ]
    },
    {
      "cell_type": "code",
      "source": [
        ""
      ],
      "metadata": {
        "id": "rxWaPYNsT5zv"
      },
      "execution_count": null,
      "outputs": []
    }
  ]
}